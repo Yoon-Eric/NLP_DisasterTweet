{
  "nbformat": 4,
  "nbformat_minor": 0,
  "metadata": {
    "colab": {
      "name": "Copy of NLP_DisasterTweets.ipynb",
      "provenance": [],
      "collapsed_sections": []
    },
    "kernelspec": {
      "name": "python3",
      "display_name": "Python 3"
    },
    "language_info": {
      "name": "python"
    }
  },
  "cells": [
    {
      "cell_type": "markdown",
      "source": [
        "###Importing libraries"
      ],
      "metadata": {
        "id": "DUONjcFpvOSo"
      }
    },
    {
      "cell_type": "code",
      "execution_count": 23,
      "metadata": {
        "id": "CCfPUEI00Lxh"
      },
      "outputs": [],
      "source": [
        "import numpy as np\n",
        "import pandas as pd\n",
        "import seaborn as sns\n",
        "import matplotlib.pyplot as plt\n",
        "\n",
        "from nltk.tokenize import word_tokenize\n",
        "from nltk.tokenize import RegexpTokenizer\n",
        "from nltk.stem.porter import PorterStemmer\n",
        "from nltk.corpus import stopwords\n",
        "from nltk.stem import WordNetLemmatizer\n",
        "from nltk.tokenize.treebank import TreebankWordDetokenizer\n",
        "\n",
        "from sklearn.model_selection import train_test_split\n",
        "from sklearn.feature_extraction.text import CountVectorizer\n",
        "from sklearn.feature_extraction.text import TfidfTransformer\n",
        "from sklearn.naive_bayes import BernoulliNB, MultinomialNB, GaussianNB\n",
        "from sklearn import svm\n",
        "from sklearn.svm import SVC\n",
        "from sklearn.linear_model import SGDClassifier\n",
        "from sklearn.model_selection import ParameterGrid\n",
        "from sklearn.model_selection import GridSearchCV\n",
        "from sklearn.metrics import roc_auc_score\n",
        "from sklearn.metrics import accuracy_score\n",
        "from parfit import bestFit"
      ]
    },
    {
      "cell_type": "code",
      "source": [
        "!pip install parfit"
      ],
      "metadata": {
        "colab": {
          "base_uri": "https://localhost:8080/"
        },
        "id": "BZqVgGJGnuVG",
        "outputId": "f274e883-fcc5-4f80-d303-0c6aca4247a4"
      },
      "execution_count": 21,
      "outputs": [
        {
          "output_type": "stream",
          "name": "stdout",
          "text": [
            "Collecting parfit\n",
            "  Downloading parfit-0.220.tar.gz (5.4 kB)\n",
            "Requirement already satisfied: joblib in /usr/local/lib/python3.7/dist-packages (from parfit) (1.1.0)\n",
            "Requirement already satisfied: matplotlib in /usr/local/lib/python3.7/dist-packages (from parfit) (3.2.2)\n",
            "Requirement already satisfied: sklearn in /usr/local/lib/python3.7/dist-packages (from parfit) (0.0)\n",
            "Requirement already satisfied: numpy in /usr/local/lib/python3.7/dist-packages (from parfit) (1.21.6)\n",
            "Requirement already satisfied: cycler>=0.10 in /usr/local/lib/python3.7/dist-packages (from matplotlib->parfit) (0.11.0)\n",
            "Requirement already satisfied: python-dateutil>=2.1 in /usr/local/lib/python3.7/dist-packages (from matplotlib->parfit) (2.8.2)\n",
            "Requirement already satisfied: pyparsing!=2.0.4,!=2.1.2,!=2.1.6,>=2.0.1 in /usr/local/lib/python3.7/dist-packages (from matplotlib->parfit) (3.0.8)\n",
            "Requirement already satisfied: kiwisolver>=1.0.1 in /usr/local/lib/python3.7/dist-packages (from matplotlib->parfit) (1.4.2)\n",
            "Requirement already satisfied: typing-extensions in /usr/local/lib/python3.7/dist-packages (from kiwisolver>=1.0.1->matplotlib->parfit) (4.1.1)\n",
            "Requirement already satisfied: six>=1.5 in /usr/local/lib/python3.7/dist-packages (from python-dateutil>=2.1->matplotlib->parfit) (1.15.0)\n",
            "Requirement already satisfied: scikit-learn in /usr/local/lib/python3.7/dist-packages (from sklearn->parfit) (1.0.2)\n",
            "Requirement already satisfied: scipy>=1.1.0 in /usr/local/lib/python3.7/dist-packages (from scikit-learn->sklearn->parfit) (1.4.1)\n",
            "Requirement already satisfied: threadpoolctl>=2.0.0 in /usr/local/lib/python3.7/dist-packages (from scikit-learn->sklearn->parfit) (3.1.0)\n",
            "Building wheels for collected packages: parfit\n",
            "  Building wheel for parfit (setup.py) ... \u001b[?25l\u001b[?25hdone\n",
            "  Created wheel for parfit: filename=parfit-0.220-py3-none-any.whl size=8660 sha256=efed22ab2bf523853511d259b3cafd488ea35d55da8f08a4079aeea5a2d64d4c\n",
            "  Stored in directory: /root/.cache/pip/wheels/9a/3b/19/64addee68f796a7e7108c2658a8765d600753bc728e7beb55e\n",
            "Successfully built parfit\n",
            "Installing collected packages: parfit\n",
            "Successfully installed parfit-0.220\n"
          ]
        }
      ]
    },
    {
      "cell_type": "code",
      "source": [
        "import nltk\n",
        "nltk.download('stopwords')\n",
        "import nltk\n",
        "nltk.download('punkt')\n",
        "import nltk\n",
        "nltk.download('wordnet')"
      ],
      "metadata": {
        "colab": {
          "base_uri": "https://localhost:8080/"
        },
        "id": "sDdfJCRDRnGY",
        "outputId": "942c2402-cbdd-4592-f5f1-63bd607174ae"
      },
      "execution_count": 2,
      "outputs": [
        {
          "output_type": "stream",
          "name": "stdout",
          "text": [
            "[nltk_data] Downloading package stopwords to /root/nltk_data...\n",
            "[nltk_data]   Unzipping corpora/stopwords.zip.\n",
            "[nltk_data] Downloading package punkt to /root/nltk_data...\n",
            "[nltk_data]   Unzipping tokenizers/punkt.zip.\n",
            "[nltk_data] Downloading package wordnet to /root/nltk_data...\n",
            "[nltk_data]   Unzipping corpora/wordnet.zip.\n"
          ]
        },
        {
          "output_type": "execute_result",
          "data": {
            "text/plain": [
              "True"
            ]
          },
          "metadata": {},
          "execution_count": 2
        }
      ]
    },
    {
      "cell_type": "markdown",
      "source": [
        "##**Data Setup & Pre-processing**"
      ],
      "metadata": {
        "id": "w00RU3ERpkkq"
      }
    },
    {
      "cell_type": "code",
      "source": [
        "!gdown --id 143jlmEQqR_CFxiTPviRRLecI8Fjnuy39\n",
        "!gdown --id 1urQCLkvaOSODgMzh0Fc-H2h2c1D6jS4y\n",
        "!gdown --id 1gtmGhSALmKYL9AbRQ4st1EKTlZx7II_6"
      ],
      "metadata": {
        "colab": {
          "base_uri": "https://localhost:8080/"
        },
        "id": "2mbmoOohIat8",
        "outputId": "afcd2a7a-f2f6-42e2-9c2f-954462e82bb8"
      },
      "execution_count": 3,
      "outputs": [
        {
          "output_type": "stream",
          "name": "stdout",
          "text": [
            "/usr/local/lib/python3.7/dist-packages/gdown/cli.py:131: FutureWarning: Option `--id` was deprecated in version 4.3.1 and will be removed in 5.0. You don't need to pass it anymore to use a file ID.\n",
            "  category=FutureWarning,\n",
            "Downloading...\n",
            "From: https://drive.google.com/uc?id=143jlmEQqR_CFxiTPviRRLecI8Fjnuy39\n",
            "To: /content/sample_submission.csv\n",
            "100% 22.7k/22.7k [00:00<00:00, 14.5MB/s]\n",
            "/usr/local/lib/python3.7/dist-packages/gdown/cli.py:131: FutureWarning: Option `--id` was deprecated in version 4.3.1 and will be removed in 5.0. You don't need to pass it anymore to use a file ID.\n",
            "  category=FutureWarning,\n",
            "Downloading...\n",
            "From: https://drive.google.com/uc?id=1urQCLkvaOSODgMzh0Fc-H2h2c1D6jS4y\n",
            "To: /content/test.csv\n",
            "100% 421k/421k [00:00<00:00, 32.9MB/s]\n",
            "/usr/local/lib/python3.7/dist-packages/gdown/cli.py:131: FutureWarning: Option `--id` was deprecated in version 4.3.1 and will be removed in 5.0. You don't need to pass it anymore to use a file ID.\n",
            "  category=FutureWarning,\n",
            "Downloading...\n",
            "From: https://drive.google.com/uc?id=1gtmGhSALmKYL9AbRQ4st1EKTlZx7II_6\n",
            "To: /content/train.csv\n",
            "100% 988k/988k [00:00<00:00, 35.9MB/s]\n"
          ]
        }
      ]
    },
    {
      "cell_type": "code",
      "source": [
        "train = pd.read_csv(\"train.csv\")\n",
        "test = pd.read_csv(\"test.csv\")\n",
        "sample_submission = pd.read_csv(\"sample_submission.csv\")"
      ],
      "metadata": {
        "id": "ZUk_qhcN1_nI"
      },
      "execution_count": 4,
      "outputs": []
    },
    {
      "cell_type": "code",
      "source": [
        "# Visualizing missing data points\n",
        "cols = train.columns[:]\n",
        "colours = ['#9fff8c', '#fc0303'] # Red is missing. green is not missing.\n",
        "sns.heatmap(train[cols].isnull(), cmap=sns.color_palette(colours))\n",
        "# There's a bunch of missing data for location and a little bit for keyword"
      ],
      "metadata": {
        "colab": {
          "base_uri": "https://localhost:8080/",
          "height": 288
        },
        "id": "k0Ys6My6eDdZ",
        "outputId": "9e700c9c-4dc8-45fe-ef38-e790a2554301"
      },
      "execution_count": 5,
      "outputs": [
        {
          "output_type": "execute_result",
          "data": {
            "text/plain": [
              "<matplotlib.axes._subplots.AxesSubplot at 0x7f823b8719d0>"
            ]
          },
          "metadata": {},
          "execution_count": 5
        },
        {
          "output_type": "display_data",
          "data": {
            "text/plain": [
              "<Figure size 432x288 with 2 Axes>"
            ],
            "image/png": "[encoded data removed]"
          },
          "metadata": {
            "needs_background": "light"
          }
        }
      ]
    },
    {
      "cell_type": "code",
      "source": [
        "# removing stop words (words that don't contain meaning. ex: a, the, umm)\n",
        "# and lemmatize the words\n",
        "stop_words = set(stopwords.words(\"english\"))\n",
        "lemmatizer = WordNetLemmatizer()\n",
        "train['filtered'] = train['text']\n",
        "\n",
        "# function that takes a string, tokenize, removes stop words, and lemmatize the words\n",
        "def text_process(txt):\n",
        "  words = word_tokenize(txt)\n",
        "  \n",
        "  #filtered = [w for w in words if not w in stop_words]\n",
        "  \n",
        "  filtered = []\n",
        "  for t in words:\n",
        "    if t not in stop_words:\n",
        "      word = lemmatizer.lemmatize(t)\n",
        "      filtered.append(word)\n",
        "  \n",
        "  return filtered\n",
        "\n",
        "# use the function to remove stop words & add a filtered column in the train dataframe\n",
        "# also detokenize it for sklearn vectorizer\n",
        "for t in range(len(train['text'])):\n",
        "  train['filtered'].iloc[t] = TreebankWordDetokenizer().detokenize(text_process(train['text'].iloc[t]))"
      ],
      "metadata": {
        "colab": {
          "base_uri": "https://localhost:8080/"
        },
        "id": "J7PaB3RvNcDa",
        "outputId": "3282fbba-1560-42fd-b404-160fbefaac04"
      },
      "execution_count": 6,
      "outputs": [
        {
          "output_type": "stream",
          "name": "stderr",
          "text": [
            "/usr/local/lib/python3.7/dist-packages/pandas/core/indexing.py:1732: SettingWithCopyWarning: \n",
            "A value is trying to be set on a copy of a slice from a DataFrame\n",
            "\n",
            "See the caveats in the documentation: https://pandas.pydata.org/pandas-docs/stable/user_guide/indexing.html#returning-a-view-versus-a-copy\n",
            "  self._setitem_single_block(indexer, value, name)\n"
          ]
        }
      ]
    },
    {
      "cell_type": "code",
      "source": [
        "# check for the difference\n",
        "train['text'].head()"
      ],
      "metadata": {
        "colab": {
          "base_uri": "https://localhost:8080/"
        },
        "id": "KuyWanNdRIEd",
        "outputId": "198f396d-fe79-470a-d92e-078b6a64ca0f"
      },
      "execution_count": 7,
      "outputs": [
        {
          "output_type": "execute_result",
          "data": {
            "text/plain": [
              "0    Our Deeds are the Reason of this #earthquake M...\n",
              "1               Forest fire near La Ronge Sask. Canada\n",
              "2    All residents asked to 'shelter in place' are ...\n",
              "3    13,000 people receive #wildfires evacuation or...\n",
              "4    Just got sent this photo from Ruby #Alaska as ...\n",
              "Name: text, dtype: object"
            ]
          },
          "metadata": {},
          "execution_count": 7
        }
      ]
    },
    {
      "cell_type": "code",
      "source": [
        "train['filtered'].head()"
      ],
      "metadata": {
        "colab": {
          "base_uri": "https://localhost:8080/"
        },
        "id": "k88SMB4LQBAB",
        "outputId": "1bc99054-cf1c-4d6f-8189-b070d6175146"
      },
      "execution_count": 8,
      "outputs": [
        {
          "output_type": "execute_result",
          "data": {
            "text/plain": [
              "0     Our Deeds Reason #earthquake May ALLAH Forgive u\n",
              "1              Forest fire near La Ronge Sask . Canada\n",
              "2    All resident asked 'shelter place' notified of...\n",
              "3    13,000 people receive #wildfire evacuation ord...\n",
              "4    Just got sent photo Ruby #Alaska smoke #wildfi...\n",
              "Name: filtered, dtype: object"
            ]
          },
          "metadata": {},
          "execution_count": 8
        }
      ]
    },
    {
      "cell_type": "code",
      "source": [
        "# train test split by 75:25 split\n",
        "\n",
        "x = train['filtered']\n",
        "y = train['target']\n",
        "\n",
        "x_train, x_val, y_train, y_val = train_test_split(x, y, test_size = 0.25)"
      ],
      "metadata": {
        "id": "fm7MYG5XVOzm"
      },
      "execution_count": 9,
      "outputs": []
    },
    {
      "cell_type": "markdown",
      "source": [
        "##**<font color='Cyan'>Naive Bayes</font>**"
      ],
      "metadata": {
        "id": "P5uxaQHAoy9-"
      }
    },
    {
      "cell_type": "code",
      "source": [
        "# count vectorize texts for both the train set and validation set\n",
        "cv = CountVectorizer()\n",
        "x_cvec = cv.fit_transform(x_train).toarray()\n",
        "xval_cvec = cv.transform(x_val).toarray()\n",
        "\n",
        "tf = TfidfTransformer().fit(x_cvec)\n",
        "x_vec = tf.transform(x_cvec)\n",
        "xval_vec = tf.transform(xval_cvec)\n",
        "\n",
        "\n",
        "# tfidf = MultinomialNB()\n",
        "\n",
        "# use multinomial naive bayes - https://www.youtube.com/watch?v=O2L2Uv9pdDA&ab_channel=StatQuestwithJoshStarmer\n",
        "mnb = MultinomialNB(alpha=1)\n",
        "mnb.fit(x_vec, y_train)\n",
        "\n",
        "# score\n",
        "mnb.score(xval_vec, y_val)"
      ],
      "metadata": {
        "colab": {
          "base_uri": "https://localhost:8080/"
        },
        "id": "IvwmoksK31Ta",
        "outputId": "f3f1c5a6-e2ee-4e9f-ec0c-4eafbafd7a47"
      },
      "execution_count": 10,
      "outputs": [
        {
          "output_type": "execute_result",
          "data": {
            "text/plain": [
              "0.8177521008403361"
            ]
          },
          "metadata": {},
          "execution_count": 10
        }
      ]
    },
    {
      "cell_type": "code",
      "source": [
        "# Bernoulli Naive Bayes\n",
        "bnb = BernoulliNB()\n",
        "bnb.fit(x_vec, y_train)\n",
        "\n",
        "# score\n",
        "bnb.score(xval_vec, y_val)"
      ],
      "metadata": {
        "colab": {
          "base_uri": "https://localhost:8080/"
        },
        "id": "NJEGVZwt8aqn",
        "outputId": "7fab30b0-534c-4b9b-f026-e5eff53e841a"
      },
      "execution_count": 11,
      "outputs": [
        {
          "output_type": "execute_result",
          "data": {
            "text/plain": [
              "0.8072478991596639"
            ]
          },
          "metadata": {},
          "execution_count": 11
        }
      ]
    },
    {
      "cell_type": "code",
      "source": [
        "# Gaussian Naive Bayes - https://www.youtube.com/watch?v=H3EjCKtlVog&ab_channel=StatQuestwithJoshStarmer\n",
        "gnb = GaussianNB()\n",
        "gnb.fit(x_cvec, y_train)\n",
        "\n",
        "# score\n",
        "gnb.score(xval_cvec, y_val)\n",
        "# the score is pretty bad, so I guess the data isn't really normal"
      ],
      "metadata": {
        "colab": {
          "base_uri": "https://localhost:8080/"
        },
        "id": "qrqcJDTTiNL1",
        "outputId": "81661771-3f9b-49ee-b9a4-402ab38e140e"
      },
      "execution_count": 12,
      "outputs": [
        {
          "output_type": "execute_result",
          "data": {
            "text/plain": [
              "0.604516806722689"
            ]
          },
          "metadata": {},
          "execution_count": 12
        }
      ]
    },
    {
      "cell_type": "markdown",
      "source": [
        "##**<font color='cyan'>Support Vector Machine</font>**"
      ],
      "metadata": {
        "id": "A_uZ7VEQpUOL"
      }
    },
    {
      "cell_type": "code",
      "source": [
        "# Hyperparameter tuning for SVM\n",
        "\n",
        "# svc = SVC()\n",
        "\n",
        "# param_grid = {'C': [.1, 1, 10],\n",
        "#               'kernel': ['linear','poly', 'sigmoid','rbf']}\n",
        "\n",
        "# grid = GridSearchCV(SVC(), param_grid, refit = True, verbose = 3)\n",
        "\n",
        "# grid.fit(x_vec,y_train)\n",
        "# grid.best_params_\n",
        "# this outputted {'C': 1, 'kernel': 'sigmoid'}\n",
        "\n",
        "svc = SVC()\n",
        "\n",
        "param_grid = {'C': [.01, .1, 1, 10],\n",
        "              'gamma': [1, 0.1, 0.01, 0.001, 0.0001],\n",
        "              'kernel': ['sigmoid']}\n",
        "\n",
        "grid = GridSearchCV(SVC(), param_grid, refit = True, verbose = 3)\n",
        "\n",
        "grid.fit(x_vec,y_train)\n",
        "grid.best_params_\n",
        "# also got {'C': 1, 'gamma': 1, 'kernel': 'sigmoid'}"
      ],
      "metadata": {
        "id": "my3aadw8pRcv"
      },
      "execution_count": null,
      "outputs": []
    },
    {
      "cell_type": "code",
      "source": [
        "svc = SVC(C=1, gamma=1, kernel='sigmoid')\n",
        "\n",
        "svc = svc.fit(x_vec, y_train)\n",
        "pred = svc.predict(xval_vec);y_true = y_val\n",
        "\n",
        "print('accuracy %s' % accuracy_score(pred, y_true))"
      ],
      "metadata": {
        "colab": {
          "base_uri": "https://localhost:8080/"
        },
        "id": "f9m3QE21th2T",
        "outputId": "e6b772c8-d141-482a-d322-87e56c3a6cb3"
      },
      "execution_count": 35,
      "outputs": [
        {
          "output_type": "stream",
          "name": "stdout",
          "text": [
            "accuracy 0.8161764705882353\n"
          ]
        }
      ]
    },
    {
      "cell_type": "code",
      "source": [
        "# Training SVM using stochastic gradient descent\n",
        "grid = {\n",
        "    'alpha': [1e-4, 1e-3, 1e-2, 1e-1, 1e0, 1e1, 1e2, 1e3], # learning rate\n",
        "    'max_iter': [1000], # number of epochs\n",
        "    'loss': ['log'], # logistic regression,\n",
        "    'penalty': ['l2'],\n",
        "    'n_jobs': [-1]\n",
        "}\n",
        "paramGrid = ParameterGrid(grid)\n",
        "\n",
        "bestModel, bestScore, allModels, allScores = bestFit(SGDClassifier, paramGrid,\n",
        "           x_vec, y_train, xval_vec, y_val, \n",
        "           metric = roc_auc_score,\n",
        "           scoreLabel = \"AUC\")\n",
        "\n",
        "print(bestModel, bestScore)"
      ],
      "metadata": {
        "id": "AwSwjEg96_1w",
        "colab": {
          "base_uri": "https://localhost:8080/",
          "height": 585
        },
        "outputId": "fc4bca33-8b75-4416-fee6-c57df43928b0"
      },
      "execution_count": 29,
      "outputs": [
        {
          "output_type": "stream",
          "name": "stdout",
          "text": [
            "-------------FITTING MODELS-------------\n"
          ]
        },
        {
          "output_type": "stream",
          "name": "stderr",
          "text": [
            "[Parallel(n_jobs=-1)]: Using backend LokyBackend with 2 concurrent workers.\n",
            "[Parallel(n_jobs=-1)]: Done   1 tasks      | elapsed:    2.5s\n",
            "[Parallel(n_jobs=-1)]: Done   4 tasks      | elapsed:    2.6s\n",
            "[Parallel(n_jobs=-1)]: Done   6 out of   8 | elapsed:    2.6s remaining:    0.9s\n",
            "[Parallel(n_jobs=-1)]: Done   8 out of   8 | elapsed:    2.6s remaining:    0.0s\n",
            "[Parallel(n_jobs=-1)]: Done   8 out of   8 | elapsed:    2.6s finished\n",
            "[Parallel(n_jobs=-1)]: Using backend LokyBackend with 2 concurrent workers.\n"
          ]
        },
        {
          "output_type": "stream",
          "name": "stdout",
          "text": [
            "-------------SCORING MODELS-------------\n"
          ]
        },
        {
          "output_type": "stream",
          "name": "stderr",
          "text": [
            "[Parallel(n_jobs=-1)]: Done   8 out of   8 | elapsed:    0.1s finished\n"
          ]
        },
        {
          "output_type": "display_data",
          "data": {
            "text/plain": [
              "<Figure size 432x432 with 1 Axes>"
            ],
            "image/png": "[encoded data removed]"
          },
          "metadata": {
            "needs_background": "light"
          }
        },
        {
          "output_type": "stream",
          "name": "stdout",
          "text": [
            "SGDClassifier(loss='log', n_jobs=-1) 0.871165123378189\n"
          ]
        }
      ]
    },
    {
      "cell_type": "markdown",
      "source": [
        "87% accuracy!\n",
        "It seems like this method outputs the best accuracy so far"
      ],
      "metadata": {
        "id": "2sV96422ovlj"
      }
    },
    {
      "cell_type": "markdown",
      "source": [
        "Next step: train my own neural network (try using transformer model)"
      ],
      "metadata": {
        "id": "2mO_qjXruTvl"
      }
    }
  ]
}