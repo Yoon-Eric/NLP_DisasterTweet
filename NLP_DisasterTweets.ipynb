{
  "nbformat": 4,
  "nbformat_minor": 0,
  "metadata": {
    "colab": {
      "name": "NLP_DisasterTweets.ipynb",
      "provenance": [],
      "collapsed_sections": []
    },
    "kernelspec": {
      "name": "python3",
      "display_name": "Python 3"
    },
    "language_info": {
      "name": "python"
    }
  },
  "cells": [
    {
      "cell_type": "markdown",
      "source": [
        "Goal: try learning/implementing at least one new ML algorithm every week\n",
        "<br><br>\n",
        "To-do list:\n",
        "\n",
        "- Do some data cleaning\n",
        "  - remove stop words\n",
        "  - lemma\n",
        "- implement support vector machine \n",
        "- or other (simple) ML algorithms\n",
        "  - KNN\n",
        "  - [Passive Aggressive Classification Algorithm](https://thecleverprogrammer.com/2021/02/10/passive-aggressive-classifier-in-machine-learning/)\n",
        "\n",
        "<br><br>\n",
        "Maybe\n",
        "- Gradient decent with Pytorch\n",
        "- [RNN](https://en.wikipedia.org/wiki/Recurrent_neural_network) with [Pytorch](https://pytorch.org/tutorials/)???!😳😳😳\n"
      ],
      "metadata": {
        "id": "5tp5j04KvVx7"
      }
    },
    {
      "cell_type": "markdown",
      "source": [
        "Referance materials\n",
        "\n",
        "- https://www.kaggle.com/naim99/your-first-nlp-competition-submission\n",
        "- https://github.com/hirish99/sentiment-analysis-project\n",
        "- [StatQuest~](https://www.youtube.com/channel/UCtYLUTtgS3k1Fg4y5tAhLbw)"
      ],
      "metadata": {
        "id": "DL6BbbXOvhZY"
      }
    },
    {
      "cell_type": "markdown",
      "source": [
        "###Importing libraries"
      ],
      "metadata": {
        "id": "DUONjcFpvOSo"
      }
    },
    {
      "cell_type": "code",
      "execution_count": null,
      "metadata": {
        "id": "CCfPUEI00Lxh"
      },
      "outputs": [],
      "source": [
        "import numpy as np\n",
        "import pandas as pd\n",
        "import seaborn as sns\n",
        "import matplotlib.pyplot as plt\n",
        "\n",
        "from nltk.tokenize import word_tokenize\n",
        "from nltk.tokenize import RegexpTokenizer\n",
        "from nltk.stem.porter import PorterStemmer\n",
        "from nltk.corpus import stopwords\n",
        "from nltk.stem import WordNetLemmatizer\n",
        "from nltk.tokenize.treebank import TreebankWordDetokenizer\n",
        "\n",
        "from sklearn.model_selection import train_test_split\n",
        "from sklearn.feature_extraction.text import CountVectorizer\n",
        "from sklearn.feature_extraction.text import TfidfTransformer\n",
        "from sklearn.naive_bayes import BernoulliNB, MultinomialNB, GaussianNB\n",
        "from sklearn import svm\n",
        "from sklearn.linear_model import SGDClassifier\n",
        "from sklearn.metrics import accuracy_score"
      ]
    },
    {
      "cell_type": "code",
      "source": [
        "import nltk\n",
        "nltk.download('stopwords')\n",
        "import nltk\n",
        "nltk.download('punkt')\n",
        "import nltk\n",
        "nltk.download('wordnet')"
      ],
      "metadata": {
        "colab": {
          "base_uri": "https://localhost:8080/"
        },
        "id": "sDdfJCRDRnGY",
        "outputId": "8b8d4590-0270-4e27-8fd4-abebe667349a"
      },
      "execution_count": null,
      "outputs": [
        {
          "output_type": "stream",
          "name": "stdout",
          "text": [
            "[nltk_data] Downloading package stopwords to /root/nltk_data...\n",
            "[nltk_data]   Unzipping corpora/stopwords.zip.\n",
            "[nltk_data] Downloading package punkt to /root/nltk_data...\n",
            "[nltk_data]   Unzipping tokenizers/punkt.zip.\n",
            "[nltk_data] Downloading package wordnet to /root/nltk_data...\n",
            "[nltk_data]   Unzipping corpora/wordnet.zip.\n"
          ]
        },
        {
          "output_type": "execute_result",
          "data": {
            "text/plain": [
              "True"
            ]
          },
          "metadata": {},
          "execution_count": 2
        }
      ]
    },
    {
      "cell_type": "markdown",
      "source": [
        "##**Data Setup & Pre-processing**"
      ],
      "metadata": {
        "id": "w00RU3ERpkkq"
      }
    },
    {
      "cell_type": "code",
      "source": [
        "!gdown --id 143jlmEQqR_CFxiTPviRRLecI8Fjnuy39\n",
        "!gdown --id 1urQCLkvaOSODgMzh0Fc-H2h2c1D6jS4y\n",
        "!gdown --id 1gtmGhSALmKYL9AbRQ4st1EKTlZx7II_6"
      ],
      "metadata": {
        "colab": {
          "base_uri": "https://localhost:8080/"
        },
        "id": "2mbmoOohIat8",
        "outputId": "2eb3b5d9-e499-4b35-937c-234e021cb166"
      },
      "execution_count": null,
      "outputs": [
        {
          "output_type": "stream",
          "name": "stdout",
          "text": [
            "Downloading...\n",
            "From: https://drive.google.com/uc?id=143jlmEQqR_CFxiTPviRRLecI8Fjnuy39\n",
            "To: /content/sample_submission.csv\n",
            "100% 22.7k/22.7k [00:00<00:00, 18.2MB/s]\n",
            "Downloading...\n",
            "From: https://drive.google.com/uc?id=1urQCLkvaOSODgMzh0Fc-H2h2c1D6jS4y\n",
            "To: /content/test.csv\n",
            "100% 421k/421k [00:00<00:00, 30.3MB/s]\n",
            "Downloading...\n",
            "From: https://drive.google.com/uc?id=1gtmGhSALmKYL9AbRQ4st1EKTlZx7II_6\n",
            "To: /content/train.csv\n",
            "100% 988k/988k [00:00<00:00, 35.9MB/s]\n"
          ]
        }
      ]
    },
    {
      "cell_type": "code",
      "source": [
        "train = pd.read_csv(\"train.csv\")\n",
        "test = pd.read_csv(\"test.csv\")\n",
        "sample_submission = pd.read_csv(\"sample_submission.csv\")"
      ],
      "metadata": {
        "id": "ZUk_qhcN1_nI"
      },
      "execution_count": null,
      "outputs": []
    },
    {
      "cell_type": "code",
      "source": [
        "# Visualizing missing data points\n",
        "cols = train.columns[:]\n",
        "colours = ['#9fff8c', '#fc0303'] # Red is missing. green is not missing.\n",
        "sns.heatmap(train[cols].isnull(), cmap=sns.color_palette(colours))\n",
        "# There's a bunch of missing data for location and a little bit for keyword"
      ],
      "metadata": {
        "colab": {
          "base_uri": "https://localhost:8080/",
          "height": 288
        },
        "id": "k0Ys6My6eDdZ",
        "outputId": "41a24144-2746-49ca-a761-3f2e1b538a6a"
      },
      "execution_count": null,
      "outputs": [
        {
          "output_type": "execute_result",
          "data": {
            "text/plain": [
              "<matplotlib.axes._subplots.AxesSubplot at 0x7f17e6819910>"
            ]
          },
          "metadata": {},
          "execution_count": 5
        },
        {
          "output_type": "display_data",
          "data": {
            "image/png": "[encoded data removed]",
            "text/plain": [
              "<Figure size 432x288 with 2 Axes>"
            ]
          },
          "metadata": {
            "needs_background": "light"
          }
        }
      ]
    },
    {
      "cell_type": "code",
      "source": [
        "# removing stop words (words that don't contain meaning. ex: a, the, umm)\n",
        "# and lemmatize the words\n",
        "stop_words = set(stopwords.words(\"english\"))\n",
        "lemmatizer = WordNetLemmatizer()\n",
        "train['filtered'] = train['text']\n",
        "\n",
        "# function that takes a string, tokenize, removes stop words, and lemmatize the words\n",
        "def text_process(txt):\n",
        "  words = word_tokenize(txt)\n",
        "  \n",
        "  #filtered = [w for w in words if not w in stop_words]\n",
        "  \n",
        "  filtered = []\n",
        "  for t in words:\n",
        "    if t not in stop_words:\n",
        "      word = lemmatizer.lemmatize(t)\n",
        "      filtered.append(word)\n",
        "  \n",
        "  return filtered\n",
        "\n",
        "# use the function to remove stop words & add a filtered column in the train dataframe\n",
        "# also detokenize it for sklearn vectorizer\n",
        "for t in range(len(train['text'])):\n",
        "  train['filtered'].iloc[t] = TreebankWordDetokenizer().detokenize(text_process(train['text'].iloc[t]))"
      ],
      "metadata": {
        "colab": {
          "base_uri": "https://localhost:8080/"
        },
        "id": "J7PaB3RvNcDa",
        "outputId": "3a73cba9-cff3-47f0-a616-157c3fbf29e7"
      },
      "execution_count": null,
      "outputs": [
        {
          "output_type": "stream",
          "name": "stderr",
          "text": [
            "/usr/local/lib/python3.7/dist-packages/pandas/core/indexing.py:1732: SettingWithCopyWarning: \n",
            "A value is trying to be set on a copy of a slice from a DataFrame\n",
            "\n",
            "See the caveats in the documentation: https://pandas.pydata.org/pandas-docs/stable/user_guide/indexing.html#returning-a-view-versus-a-copy\n",
            "  self._setitem_single_block(indexer, value, name)\n"
          ]
        }
      ]
    },
    {
      "cell_type": "code",
      "source": [
        "# check for the difference\n",
        "train['text'].head()"
      ],
      "metadata": {
        "colab": {
          "base_uri": "https://localhost:8080/"
        },
        "id": "KuyWanNdRIEd",
        "outputId": "8950ffb6-eaf8-4a60-8df0-0f17d874a81a"
      },
      "execution_count": null,
      "outputs": [
        {
          "output_type": "execute_result",
          "data": {
            "text/plain": [
              "0    Our Deeds are the Reason of this #earthquake M...\n",
              "1               Forest fire near La Ronge Sask. Canada\n",
              "2    All residents asked to 'shelter in place' are ...\n",
              "3    13,000 people receive #wildfires evacuation or...\n",
              "4    Just got sent this photo from Ruby #Alaska as ...\n",
              "Name: text, dtype: object"
            ]
          },
          "metadata": {},
          "execution_count": 7
        }
      ]
    },
    {
      "cell_type": "code",
      "source": [
        "train['filtered'].head()"
      ],
      "metadata": {
        "colab": {
          "base_uri": "https://localhost:8080/"
        },
        "id": "k88SMB4LQBAB",
        "outputId": "279b97a1-e1ac-4d97-8bf7-49d86decfcbc"
      },
      "execution_count": null,
      "outputs": [
        {
          "output_type": "execute_result",
          "data": {
            "text/plain": [
              "0     Our Deeds Reason #earthquake May ALLAH Forgive u\n",
              "1              Forest fire near La Ronge Sask . Canada\n",
              "2    All resident asked 'shelter place' notified of...\n",
              "3    13,000 people receive #wildfire evacuation ord...\n",
              "4    Just got sent photo Ruby #Alaska smoke #wildfi...\n",
              "Name: filtered, dtype: object"
            ]
          },
          "metadata": {},
          "execution_count": 8
        }
      ]
    },
    {
      "cell_type": "code",
      "source": [
        "# train test split by 75:25 split\n",
        "\n",
        "x = train['filtered']\n",
        "y = train['target']\n",
        "\n",
        "x_train, x_val, y_train, y_val = train_test_split(x, y, test_size = 0.25)"
      ],
      "metadata": {
        "id": "fm7MYG5XVOzm"
      },
      "execution_count": null,
      "outputs": []
    },
    {
      "cell_type": "markdown",
      "source": [
        "##**<font color='Cyan'>Naive Bayes</font>**"
      ],
      "metadata": {
        "id": "P5uxaQHAoy9-"
      }
    },
    {
      "cell_type": "code",
      "source": [
        "# count vectorize texts for both the train set and validation set\n",
        "cv = CountVectorizer()\n",
        "x_cvec = cv.fit_transform(x_train).toarray()\n",
        "xval_cvec = cv.transform(x_val).toarray()\n",
        "\n",
        "tf = TfidfTransformer().fit(x_cvec)\n",
        "x_vec = tf.transform(x_cvec)\n",
        "xval_vec = tf.transform(xval_cvec)\n",
        "\n",
        "\n",
        "# tfidf = MultinomialNB()\n",
        "\n",
        "# use multinomial naive bayes - https://www.youtube.com/watch?v=O2L2Uv9pdDA&ab_channel=StatQuestwithJoshStarmer\n",
        "mnb = MultinomialNB(alpha=1)\n",
        "mnb.fit(x_vec, y_train)\n",
        "\n",
        "# score\n",
        "mnb.score(xval_vec, y_val)"
      ],
      "metadata": {
        "colab": {
          "base_uri": "https://localhost:8080/"
        },
        "id": "IvwmoksK31Ta",
        "outputId": "d7b88cba-c77f-403d-c120-de4d68956ffa"
      },
      "execution_count": null,
      "outputs": [
        {
          "output_type": "execute_result",
          "data": {
            "text/plain": [
              "0.8093487394957983"
            ]
          },
          "metadata": {},
          "execution_count": 14
        }
      ]
    },
    {
      "cell_type": "code",
      "source": [
        "# Bernoulli Naive Bayes\n",
        "bnb = BernoulliNB()\n",
        "bnb.fit(x_vec, y_train)\n",
        "\n",
        "# score\n",
        "bnb.score(xval_vec, y_val)"
      ],
      "metadata": {
        "colab": {
          "base_uri": "https://localhost:8080/"
        },
        "id": "NJEGVZwt8aqn",
        "outputId": "216c6cee-266d-409c-ebe9-15f3dca3ee22"
      },
      "execution_count": null,
      "outputs": [
        {
          "output_type": "execute_result",
          "data": {
            "text/plain": [
              "0.7962184873949579"
            ]
          },
          "metadata": {},
          "execution_count": 15
        }
      ]
    },
    {
      "cell_type": "code",
      "source": [
        "# Gaussian Naive Bayes - https://www.youtube.com/watch?v=H3EjCKtlVog&ab_channel=StatQuestwithJoshStarmer\n",
        "gnb = GaussianNB()\n",
        "gnb.fit(x_cvec, y_train)\n",
        "\n",
        "# score\n",
        "gnb.score(xval_cvec, y_val)\n",
        "# the score is pretty bad, so I guess the data isn't really normal"
      ],
      "metadata": {
        "colab": {
          "base_uri": "https://localhost:8080/"
        },
        "id": "qrqcJDTTiNL1",
        "outputId": "fe832266-a7ad-4a91-e7f5-1aaff81f70df"
      },
      "execution_count": null,
      "outputs": [
        {
          "output_type": "execute_result",
          "data": {
            "text/plain": [
              "0.6150210084033614"
            ]
          },
          "metadata": {},
          "execution_count": 18
        }
      ]
    },
    {
      "cell_type": "markdown",
      "source": [
        "##**<font color='cyan'>Support Vector Machine</font>**"
      ],
      "metadata": {
        "id": "A_uZ7VEQpUOL"
      }
    },
    {
      "cell_type": "code",
      "source": [
        "# countvectorized x = features (x)\n",
        "# y_train = target\n",
        "\n",
        "# clf = svm.SVC(kernel='linear').fit(x_vec, y_train)"
      ],
      "metadata": {
        "id": "AwSwjEg96_1w"
      },
      "execution_count": null,
      "outputs": []
    }
  ]
}